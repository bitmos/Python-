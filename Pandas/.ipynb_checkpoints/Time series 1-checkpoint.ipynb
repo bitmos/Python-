{
 "cells": [
  {
   "cell_type": "code",
   "execution_count": 19,
   "id": "82e8c05a",
   "metadata": {
    "scrolled": false
   },
   "outputs": [
    {
     "data": {
      "text/html": [
       "<div>\n",
       "<style scoped>\n",
       "    .dataframe tbody tr th:only-of-type {\n",
       "        vertical-align: middle;\n",
       "    }\n",
       "\n",
       "    .dataframe tbody tr th {\n",
       "        vertical-align: top;\n",
       "    }\n",
       "\n",
       "    .dataframe thead th {\n",
       "        text-align: right;\n",
       "    }\n",
       "</style>\n",
       "<table border=\"1\" class=\"dataframe\">\n",
       "  <thead>\n",
       "    <tr style=\"text-align: right;\">\n",
       "      <th></th>\n",
       "      <th>Open</th>\n",
       "      <th>High</th>\n",
       "      <th>Low</th>\n",
       "      <th>Close</th>\n",
       "      <th>Adj Close</th>\n",
       "      <th>Volume</th>\n",
       "    </tr>\n",
       "    <tr>\n",
       "      <th>Date</th>\n",
       "      <th></th>\n",
       "      <th></th>\n",
       "      <th></th>\n",
       "      <th></th>\n",
       "      <th></th>\n",
       "      <th></th>\n",
       "    </tr>\n",
       "  </thead>\n",
       "  <tbody>\n",
       "    <tr>\n",
       "      <th>2020-05-11</th>\n",
       "      <td>77.025002</td>\n",
       "      <td>79.262497</td>\n",
       "      <td>76.809998</td>\n",
       "      <td>78.752502</td>\n",
       "      <td>78.225410</td>\n",
       "      <td>145946400</td>\n",
       "    </tr>\n",
       "    <tr>\n",
       "      <th>2020-05-12</th>\n",
       "      <td>79.457497</td>\n",
       "      <td>79.922501</td>\n",
       "      <td>77.727501</td>\n",
       "      <td>77.852501</td>\n",
       "      <td>77.331436</td>\n",
       "      <td>162301200</td>\n",
       "    </tr>\n",
       "    <tr>\n",
       "      <th>2020-05-13</th>\n",
       "      <td>78.037498</td>\n",
       "      <td>78.987503</td>\n",
       "      <td>75.802498</td>\n",
       "      <td>76.912498</td>\n",
       "      <td>76.397720</td>\n",
       "      <td>200622400</td>\n",
       "    </tr>\n",
       "    <tr>\n",
       "      <th>2020-05-14</th>\n",
       "      <td>76.127502</td>\n",
       "      <td>77.447502</td>\n",
       "      <td>75.382500</td>\n",
       "      <td>77.385002</td>\n",
       "      <td>76.867065</td>\n",
       "      <td>158929200</td>\n",
       "    </tr>\n",
       "    <tr>\n",
       "      <th>2020-05-15</th>\n",
       "      <td>75.087502</td>\n",
       "      <td>76.974998</td>\n",
       "      <td>75.052498</td>\n",
       "      <td>76.927498</td>\n",
       "      <td>76.412621</td>\n",
       "      <td>166348400</td>\n",
       "    </tr>\n",
       "  </tbody>\n",
       "</table>\n",
       "</div>"
      ],
      "text/plain": [
       "                 Open       High        Low      Close  Adj Close     Volume\n",
       "Date                                                                        \n",
       "2020-05-11  77.025002  79.262497  76.809998  78.752502  78.225410  145946400\n",
       "2020-05-12  79.457497  79.922501  77.727501  77.852501  77.331436  162301200\n",
       "2020-05-13  78.037498  78.987503  75.802498  76.912498  76.397720  200622400\n",
       "2020-05-14  76.127502  77.447502  75.382500  77.385002  76.867065  158929200\n",
       "2020-05-15  75.087502  76.974998  75.052498  76.927498  76.412621  166348400"
      ]
     },
     "execution_count": 19,
     "metadata": {},
     "output_type": "execute_result"
    }
   ],
   "source": [
    "import pandas as pd\n",
    "df =pd.read_csv('AAPL.csv',parse_dates=[\"Date\"],index_col=[\"Date\"])\n",
    "df\n",
    "df.head(5)"
   ]
  },
  {
   "cell_type": "code",
   "execution_count": 17,
   "id": "99795a17",
   "metadata": {},
   "outputs": [
    {
     "data": {
      "text/plain": [
       "pandas._libs.tslibs.timestamps.Timestamp"
      ]
     },
     "execution_count": 17,
     "metadata": {},
     "output_type": "execute_result"
    }
   ],
   "source": [
    "type(df.Date[0])"
   ]
  },
  {
   "cell_type": "code",
   "execution_count": 24,
   "id": "4abba081",
   "metadata": {
    "scrolled": true
   },
   "outputs": [
    {
     "name": "stderr",
     "output_type": "stream",
     "text": [
      "<ipython-input-24-9721b18e3179>:1: FutureWarning: Indexing a DataFrame with a datetimelike index using a single string to slice the rows, like `frame[string]`, is deprecated and will be removed in a future version. Use `frame.loc[string]` instead.\n",
      "  df[\"2020-05\"].Close.mean()\n"
     ]
    },
    {
     "data": {
      "text/plain": [
       "78.66821514285714"
      ]
     },
     "execution_count": 24,
     "metadata": {},
     "output_type": "execute_result"
    }
   ],
   "source": [
    "df[\"2020-05\"].Close.mean()"
   ]
  },
  {
   "cell_type": "code",
   "execution_count": 25,
   "id": "e8805829",
   "metadata": {},
   "outputs": [
    {
     "data": {
      "text/plain": [
       "Date\n",
       "2020-05-31     78.668215\n",
       "2020-06-30     86.451590\n",
       "2020-07-31     95.566250\n",
       "2020-08-31    117.299762\n",
       "2020-09-30    115.125237\n",
       "2020-10-31    116.413182\n",
       "2020-11-30    116.825999\n",
       "2020-12-31    127.290455\n",
       "2021-01-31    133.036842\n",
       "2021-02-28    131.531579\n",
       "2021-03-31    121.871304\n",
       "2021-04-30    131.812858\n",
       "2021-05-31    129.688002\n",
       "Freq: M, Name: Close, dtype: float64"
      ]
     },
     "execution_count": 25,
     "metadata": {},
     "output_type": "execute_result"
    }
   ],
   "source": [
    "df.Close.resample('M').mean()"
   ]
  },
  {
   "cell_type": "code",
   "execution_count": 26,
   "id": "efcbf541",
   "metadata": {
    "scrolled": true
   },
   "outputs": [
    {
     "data": {
      "text/plain": [
       "<AxesSubplot:xlabel='Date'>"
      ]
     },
     "execution_count": 26,
     "metadata": {},
     "output_type": "execute_result"
    },
    {
     "data": {
      "image/png": "[encoded data removed]",
      "text/plain": [
       "<Figure size 432x288 with 1 Axes>"
      ]
     },
     "metadata": {
      "needs_background": "light"
     },
     "output_type": "display_data"
    }
   ],
   "source": [
    "%matplotlib inline\n",
    "df.Close.resample('M').mean().plot()"
   ]
  },
  {
   "cell_type": "code",
   "execution_count": 28,
   "id": "ee1f4c38",
   "metadata": {},
   "outputs": [
    {
     "data": {
      "text/plain": [
       "<AxesSubplot:xlabel='Date'>"
      ]
     },
     "execution_count": 28,
     "metadata": {},
     "output_type": "execute_result"
    },
    {
     "data": {
      "image/png": "[encoded data removed]",
      "text/plain": [
       "<Figure size 432x288 with 1 Axes>"
      ]
     },
     "metadata": {
      "needs_background": "light"
     },
     "output_type": "display_data"
    }
   ],
   "source": [
    "df.Close.resample('Q').mean().plot(kind=\"bar\")"
   ]
  }
 ],
 "metadata": {
  "kernelspec": {
   "display_name": "Python 3",
   "language": "python",
   "name": "python3"
  },
  "language_info": {
   "codemirror_mode": {
    "name": "ipython",
    "version": 3
   },
   "file_extension": ".py",
   "mimetype": "text/x-python",
   "name": "python",
   "nbconvert_exporter": "python",
   "pygments_lexer": "ipython3",
   "version": "3.8.3"
  }
 },
 "nbformat": 4,
 "nbformat_minor": 5
}
